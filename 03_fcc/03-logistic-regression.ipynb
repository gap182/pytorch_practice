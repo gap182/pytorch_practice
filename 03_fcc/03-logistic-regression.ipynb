{
 "cells": [
  {
   "cell_type": "code",
   "execution_count": 14,
   "metadata": {},
   "outputs": [],
   "source": [
    "import numpy as np\n",
    "import matplotlib.pyplot as plt\n",
    "import torch\n",
    "import torch.nn as nn\n",
    "import torchvision \n",
    "from torchvision.datasets import MNIST \n",
    "import torchvision.transforms as transforms\n",
    "\n",
    "%matplotlib inline"
   ]
  },
  {
   "cell_type": "markdown",
   "metadata": {},
   "source": [
    "torchvision.datasets es para importar diferentes tipos de data ejemplo"
   ]
  },
  {
   "cell_type": "code",
   "execution_count": 26,
   "metadata": {},
   "outputs": [],
   "source": [
    "dataset = MNIST('data/', download=True)"
   ]
  },
  {
   "cell_type": "code",
   "execution_count": 27,
   "metadata": {},
   "outputs": [
    {
     "data": {
      "text/plain": [
       "Dataset MNIST\n",
       "    Number of datapoints: 60000\n",
       "    Root location: data/\n",
       "    Split: Train"
      ]
     },
     "execution_count": 27,
     "metadata": {},
     "output_type": "execute_result"
    }
   ],
   "source": [
    "len(dataset)\n",
    "dataset"
   ]
  },
  {
   "cell_type": "markdown",
   "metadata": {},
   "source": [
    "Ojo, con len() puedo ver el tamaño del dataset, pero no es un tipo de dato común\n",
    "Es un tipo de dato especial del torchvision"
   ]
  },
  {
   "cell_type": "code",
   "execution_count": 28,
   "metadata": {},
   "outputs": [],
   "source": [
    "test_dataset = MNIST('data/', train=False, download=True)"
   ]
  },
  {
   "cell_type": "markdown",
   "metadata": {},
   "source": [
    "Si se escoge el train=False en el dataset del torchvision, entonces toma un conjunto\n",
    "de los datos destinados para el test."
   ]
  },
  {
   "cell_type": "code",
   "execution_count": 29,
   "metadata": {},
   "outputs": [
    {
     "data": {
      "text/plain": [
       "10000"
      ]
     },
     "execution_count": 29,
     "metadata": {},
     "output_type": "execute_result"
    }
   ],
   "source": [
    "len(test_dataset)"
   ]
  },
  {
   "cell_type": "markdown",
   "metadata": {},
   "source": [
    "Ahora, quiero mirar como se ven los datos"
   ]
  },
  {
   "cell_type": "code",
   "execution_count": 30,
   "metadata": {},
   "outputs": [
    {
     "name": "stdout",
     "output_type": "stream",
     "text": [
      "<PIL.Image.Image image mode=L size=28x28 at 0x7FCF9D3B13D0> 5\n"
     ]
    }
   ],
   "source": [
    "print(dataset[0][0],dataset[0][1])"
   ]
  },
  {
   "cell_type": "markdown",
   "metadata": {},
   "source": [
    "Podemos ver que los elemenos del dataset son un tuble, con el primer elemento que\n",
    "es una imagen y el segundo el label"
   ]
  },
  {
   "cell_type": "code",
   "execution_count": 31,
   "metadata": {},
   "outputs": [
    {
     "name": "stdout",
     "output_type": "stream",
     "text": [
      "label:  5\n"
     ]
    },
    {
     "data": {
      "image/png": "[encoded data removed]",
      "text/plain": [
       "<Figure size 432x288 with 1 Axes>"
      ]
     },
     "metadata": {
      "needs_background": "light"
     },
     "output_type": "display_data"
    }
   ],
   "source": [
    "image, label = dataset[0]\n",
    "plt.imshow(image, cmap='gray')\n",
    "print('label: ', label)"
   ]
  },
  {
   "cell_type": "markdown",
   "metadata": {},
   "source": [
    "Entonces como el tipo de imagen es PIL, se usa imshow para graficar los datos,\n",
    "además, se puede ver que la imagen es de tamaño 28x28."
   ]
  },
  {
   "cell_type": "markdown",
   "metadata": {},
   "source": [
    "Ojo, al parecer no puedo graficar con una iteración, porque debo pasar el dataset\n",
    "por un TensorData\n",
    "    "
   ]
  },
  {
   "cell_type": "markdown",
   "metadata": {},
   "source": [
    "OJO, no olvidar que estos datos no son aún tensores, sin simplemente imágenes, se deben\n",
    "convertir a tensores, para eso al momento de importar debo escoger una opción llamada \n",
    "**transform** y debe ser igual a **transforms.ToTensor()**\n",
    "\n",
    "**OJO** Es necesario importar el transforms de el torchvision.\n",
    "\n",
    "Viendo la documentación de transform, hay muchas opciones para operar sobre imágenes, se puede\n",
    "también importar como tensor pero hacer operaciones antes como normalización, transformación lineal, borrado random.\n",
    "\n",
    "También se puede usar transform para el proceso inverso, convertir de tensor a imagen (debo\n",
    "revisarlo luego).\n"
   ]
  },
  {
   "cell_type": "markdown",
   "metadata": {},
   "source": [
    "Ahora, nuevamente el dataset está dividido en la imagen y el laben (dato entrada y salida) \n",
    "pero esta ves no se puede graficar al ser un tensor."
   ]
  },
  {
   "cell_type": "code",
   "execution_count": 32,
   "metadata": {},
   "outputs": [
    {
     "name": "stdout",
     "output_type": "stream",
     "text": [
      "<class 'torch.Tensor'> <class 'int'>\n",
      "torch.Size([1, 28, 28])\n"
     ]
    }
   ],
   "source": [
    "dataset = MNIST('data/', download=True, transform=transforms.ToTensor())\n",
    "\n",
    "image_tensor, label = dataset[0]\n",
    "# print(image,label)\n",
    "print(type(image_tensor), type(label))\n",
    "print(image_tensor.shape)"
   ]
  },
  {
   "cell_type": "markdown",
   "metadata": {},
   "source": [
    "Al parecer aunque ahora sea un tensor, lo puedo graficar, pensaba que no."
   ]
  },
  {
   "cell_type": "code",
   "execution_count": 37,
   "metadata": {},
   "outputs": [
    {
     "data": {
      "text/plain": [
       "<matplotlib.image.AxesImage at 0x7fcf9c672c10>"
      ]
     },
     "execution_count": 37,
     "metadata": {},
     "output_type": "execute_result"
    },
    {
     "data": {
      "image/png": "[encoded data removed]",
      "text/plain": [
       "<Figure size 432x288 with 1 Axes>"
      ]
     },
     "metadata": {
      "needs_background": "light"
     },
     "output_type": "display_data"
    }
   ],
   "source": [
    "plt.imshow(image_tensor[0], cmap='gray')"
   ]
  },
  {
   "cell_type": "markdown",
   "metadata": {},
   "source": [
    "Ahora voy a dividir los datos en uno de validación"
   ]
  },
  {
   "cell_type": "code",
   "execution_count": 40,
   "metadata": {},
   "outputs": [],
   "source": [
    "def split_indices(n, val_pct):\n",
    "    n_val = int(n*val_pct)\n",
    "    indxs = np.random.permutation(n)\n",
    "    #ojo, no me servía el randint porque podría repetir los índices\n",
    "    return indxs[n_val:], indxs[:n_val]\n",
    "    "
   ]
  },
  {
   "cell_type": "code",
   "execution_count": 41,
   "metadata": {},
   "outputs": [],
   "source": [
    "train_indices, val_indices = split_indices(len(dataset),val_pct = 0.2)"
   ]
  },
  {
   "cell_type": "code",
   "execution_count": 44,
   "metadata": {},
   "outputs": [
    {
     "name": "stdout",
     "output_type": "stream",
     "text": [
      "(48000,) (12000,)\n"
     ]
    }
   ],
   "source": [
    "print(train_indices.shape, val_indices.shape)"
   ]
  },
  {
   "cell_type": "code",
   "execution_count": 46,
   "metadata": {},
   "outputs": [],
   "source": [
    "from torch.utils.data.sampler import SubsetRandomSampler\n",
    "from torch.utils.data.dataloader import DataLoader"
   ]
  },
  {
   "cell_type": "code",
   "execution_count": 53,
   "metadata": {},
   "outputs": [],
   "source": [
    "batch_size = 100\n",
    "train_sampler = SubsetRandomSampler(train_indices)\n",
    "train_loader = DataLoader(dataset, batch_size=batch_size, sampler=train_sampler)\n",
    "val_sampler = SubsetRandomSampler(val_indices)\n",
    "val_loader = DataLoader(dataset, batch_size=batch_size, sampler=val_sampler)\n"
   ]
  },
  {
   "cell_type": "markdown",
   "metadata": {},
   "source": [
    "OJO, el sampler es una forma de organizar los items dentro del dataloader, hay varias opciones, sería bueno revisarlas en algún momento a detalle. Por ahora, el subsetrandomsampler toma una lista, o array de indices y genera un sampler de esos índices de manera aleatorioa.\n",
    "\n",
    "Ahora, el dataloader es para organizar los datos de manera iterable en datos de entrada y salida, con batches también."
   ]
  },
  {
   "cell_type": "code",
   "execution_count": 55,
   "metadata": {},
   "outputs": [],
   "source": [
    "input_size = 28*28\n",
    "num_classes = 10\n",
    "\n",
    "model = nn.Linear(input_size, num_classes)"
   ]
  },
  {
   "cell_type": "markdown",
   "metadata": {},
   "source": [
    "Definí simplemente un modelo lineal, el problema es que para la clasificación de los número vamos a usar onehot representation, por lo que toca hacer un softmax y un crossentropy para el error.\n",
    "\n",
    "OJO, los parámetros definidos dentro del módulo nn son automáticamente requires_grad=True"
   ]
  },
  {
   "cell_type": "code",
   "execution_count": 58,
   "metadata": {},
   "outputs": [
    {
     "name": "stdout",
     "output_type": "stream",
     "text": [
      "Parameter containing:\n",
      "tensor([[ 0.0315, -0.0142,  0.0044,  ...,  0.0095,  0.0146, -0.0131],\n",
      "        [ 0.0347,  0.0195, -0.0312,  ...,  0.0100, -0.0014, -0.0304],\n",
      "        [ 0.0004, -0.0210,  0.0247,  ..., -0.0247, -0.0264,  0.0044],\n",
      "        ...,\n",
      "        [ 0.0224,  0.0077,  0.0204,  ...,  0.0034,  0.0219,  0.0077],\n",
      "        [ 0.0220, -0.0245, -0.0297,  ...,  0.0345, -0.0158, -0.0055],\n",
      "        [ 0.0274,  0.0217,  0.0026,  ..., -0.0042,  0.0088,  0.0148]],\n",
      "       requires_grad=True) Parameter containing:\n",
      "tensor([ 0.0226,  0.0241, -0.0077,  0.0250,  0.0058, -0.0245, -0.0101,  0.0215,\n",
      "        -0.0137,  0.0043], requires_grad=True)\n",
      "torch.Size([10, 784]) torch.Size([10])\n"
     ]
    }
   ],
   "source": [
    "print(model.weight, model.bias); print(model.weight.shape, model.bias.shape)"
   ]
  },
  {
   "cell_type": "code",
   "execution_count": 60,
   "metadata": {},
   "outputs": [
    {
     "name": "stdout",
     "output_type": "stream",
     "text": [
      "tensor([8, 1, 0, 1, 9, 3, 1, 0, 4, 1, 1, 2, 1, 7, 9, 8, 7, 1, 7, 1, 2, 5, 8, 0,\n",
      "        1, 8, 6, 4, 9, 4, 6, 7, 3, 6, 2, 7, 8, 4, 4, 7, 9, 5, 1, 0, 4, 0, 3, 2,\n",
      "        6, 1, 1, 5, 8, 2, 6, 4, 0, 7, 3, 2, 8, 4, 8, 5, 9, 3, 9, 2, 0, 7, 6, 0,\n",
      "        4, 6, 6, 2, 4, 7, 1, 1, 4, 6, 2, 2, 5, 1, 4, 9, 8, 2, 1, 2, 8, 8, 5, 0,\n",
      "        0, 8, 2, 9])\n",
      "torch.Size([100, 1, 28, 28])\n"
     ]
    },
    {
     "ename": "RuntimeError",
     "evalue": "size mismatch, m1: [2800 x 28], m2: [784 x 10] at /opt/conda/conda-bld/pytorch_1587428398394/work/aten/src/TH/generic/THTensorMath.cpp:41",
     "output_type": "error",
     "traceback": [
      "\u001b[0;31m---------------------------------------------------------------------------\u001b[0m",
      "\u001b[0;31mRuntimeError\u001b[0m                              Traceback (most recent call last)",
      "\u001b[0;32m<ipython-input-60-64ad1e558d27>\u001b[0m in \u001b[0;36m<module>\u001b[0;34m\u001b[0m\n\u001b[1;32m      2\u001b[0m     \u001b[0mprint\u001b[0m\u001b[0;34m(\u001b[0m\u001b[0mlabels\u001b[0m\u001b[0;34m)\u001b[0m\u001b[0;34m\u001b[0m\u001b[0;34m\u001b[0m\u001b[0m\n\u001b[1;32m      3\u001b[0m     \u001b[0mprint\u001b[0m\u001b[0;34m(\u001b[0m\u001b[0mimages\u001b[0m\u001b[0;34m.\u001b[0m\u001b[0mshape\u001b[0m\u001b[0;34m)\u001b[0m\u001b[0;34m\u001b[0m\u001b[0;34m\u001b[0m\u001b[0m\n\u001b[0;32m----> 4\u001b[0;31m     \u001b[0moutputs\u001b[0m \u001b[0;34m=\u001b[0m \u001b[0mmodel\u001b[0m\u001b[0;34m(\u001b[0m\u001b[0mimages\u001b[0m\u001b[0;34m)\u001b[0m\u001b[0;34m\u001b[0m\u001b[0;34m\u001b[0m\u001b[0m\n\u001b[0m",
      "\u001b[0;32m~/anaconda3/lib/python3.7/site-packages/torch/nn/modules/module.py\u001b[0m in \u001b[0;36m__call__\u001b[0;34m(self, *input, **kwargs)\u001b[0m\n\u001b[1;32m    548\u001b[0m             \u001b[0mresult\u001b[0m \u001b[0;34m=\u001b[0m \u001b[0mself\u001b[0m\u001b[0;34m.\u001b[0m\u001b[0m_slow_forward\u001b[0m\u001b[0;34m(\u001b[0m\u001b[0;34m*\u001b[0m\u001b[0minput\u001b[0m\u001b[0;34m,\u001b[0m \u001b[0;34m**\u001b[0m\u001b[0mkwargs\u001b[0m\u001b[0;34m)\u001b[0m\u001b[0;34m\u001b[0m\u001b[0;34m\u001b[0m\u001b[0m\n\u001b[1;32m    549\u001b[0m         \u001b[0;32melse\u001b[0m\u001b[0;34m:\u001b[0m\u001b[0;34m\u001b[0m\u001b[0;34m\u001b[0m\u001b[0m\n\u001b[0;32m--> 550\u001b[0;31m             \u001b[0mresult\u001b[0m \u001b[0;34m=\u001b[0m \u001b[0mself\u001b[0m\u001b[0;34m.\u001b[0m\u001b[0mforward\u001b[0m\u001b[0;34m(\u001b[0m\u001b[0;34m*\u001b[0m\u001b[0minput\u001b[0m\u001b[0;34m,\u001b[0m \u001b[0;34m**\u001b[0m\u001b[0mkwargs\u001b[0m\u001b[0;34m)\u001b[0m\u001b[0;34m\u001b[0m\u001b[0;34m\u001b[0m\u001b[0m\n\u001b[0m\u001b[1;32m    551\u001b[0m         \u001b[0;32mfor\u001b[0m \u001b[0mhook\u001b[0m \u001b[0;32min\u001b[0m \u001b[0mself\u001b[0m\u001b[0;34m.\u001b[0m\u001b[0m_forward_hooks\u001b[0m\u001b[0;34m.\u001b[0m\u001b[0mvalues\u001b[0m\u001b[0;34m(\u001b[0m\u001b[0;34m)\u001b[0m\u001b[0;34m:\u001b[0m\u001b[0;34m\u001b[0m\u001b[0;34m\u001b[0m\u001b[0m\n\u001b[1;32m    552\u001b[0m             \u001b[0mhook_result\u001b[0m \u001b[0;34m=\u001b[0m \u001b[0mhook\u001b[0m\u001b[0;34m(\u001b[0m\u001b[0mself\u001b[0m\u001b[0;34m,\u001b[0m \u001b[0minput\u001b[0m\u001b[0;34m,\u001b[0m \u001b[0mresult\u001b[0m\u001b[0;34m)\u001b[0m\u001b[0;34m\u001b[0m\u001b[0;34m\u001b[0m\u001b[0m\n",
      "\u001b[0;32m~/anaconda3/lib/python3.7/site-packages/torch/nn/modules/linear.py\u001b[0m in \u001b[0;36mforward\u001b[0;34m(self, input)\u001b[0m\n\u001b[1;32m     85\u001b[0m \u001b[0;34m\u001b[0m\u001b[0m\n\u001b[1;32m     86\u001b[0m     \u001b[0;32mdef\u001b[0m \u001b[0mforward\u001b[0m\u001b[0;34m(\u001b[0m\u001b[0mself\u001b[0m\u001b[0;34m,\u001b[0m \u001b[0minput\u001b[0m\u001b[0;34m)\u001b[0m\u001b[0;34m:\u001b[0m\u001b[0;34m\u001b[0m\u001b[0;34m\u001b[0m\u001b[0m\n\u001b[0;32m---> 87\u001b[0;31m         \u001b[0;32mreturn\u001b[0m \u001b[0mF\u001b[0m\u001b[0;34m.\u001b[0m\u001b[0mlinear\u001b[0m\u001b[0;34m(\u001b[0m\u001b[0minput\u001b[0m\u001b[0;34m,\u001b[0m \u001b[0mself\u001b[0m\u001b[0;34m.\u001b[0m\u001b[0mweight\u001b[0m\u001b[0;34m,\u001b[0m \u001b[0mself\u001b[0m\u001b[0;34m.\u001b[0m\u001b[0mbias\u001b[0m\u001b[0;34m)\u001b[0m\u001b[0;34m\u001b[0m\u001b[0;34m\u001b[0m\u001b[0m\n\u001b[0m\u001b[1;32m     88\u001b[0m \u001b[0;34m\u001b[0m\u001b[0m\n\u001b[1;32m     89\u001b[0m     \u001b[0;32mdef\u001b[0m \u001b[0mextra_repr\u001b[0m\u001b[0;34m(\u001b[0m\u001b[0mself\u001b[0m\u001b[0;34m)\u001b[0m\u001b[0;34m:\u001b[0m\u001b[0;34m\u001b[0m\u001b[0;34m\u001b[0m\u001b[0m\n",
      "\u001b[0;32m~/anaconda3/lib/python3.7/site-packages/torch/nn/functional.py\u001b[0m in \u001b[0;36mlinear\u001b[0;34m(input, weight, bias)\u001b[0m\n\u001b[1;32m   1610\u001b[0m         \u001b[0mret\u001b[0m \u001b[0;34m=\u001b[0m \u001b[0mtorch\u001b[0m\u001b[0;34m.\u001b[0m\u001b[0maddmm\u001b[0m\u001b[0;34m(\u001b[0m\u001b[0mbias\u001b[0m\u001b[0;34m,\u001b[0m \u001b[0minput\u001b[0m\u001b[0;34m,\u001b[0m \u001b[0mweight\u001b[0m\u001b[0;34m.\u001b[0m\u001b[0mt\u001b[0m\u001b[0;34m(\u001b[0m\u001b[0;34m)\u001b[0m\u001b[0;34m)\u001b[0m\u001b[0;34m\u001b[0m\u001b[0;34m\u001b[0m\u001b[0m\n\u001b[1;32m   1611\u001b[0m     \u001b[0;32melse\u001b[0m\u001b[0;34m:\u001b[0m\u001b[0;34m\u001b[0m\u001b[0;34m\u001b[0m\u001b[0m\n\u001b[0;32m-> 1612\u001b[0;31m         \u001b[0moutput\u001b[0m \u001b[0;34m=\u001b[0m \u001b[0minput\u001b[0m\u001b[0;34m.\u001b[0m\u001b[0mmatmul\u001b[0m\u001b[0;34m(\u001b[0m\u001b[0mweight\u001b[0m\u001b[0;34m.\u001b[0m\u001b[0mt\u001b[0m\u001b[0;34m(\u001b[0m\u001b[0;34m)\u001b[0m\u001b[0;34m)\u001b[0m\u001b[0;34m\u001b[0m\u001b[0;34m\u001b[0m\u001b[0m\n\u001b[0m\u001b[1;32m   1613\u001b[0m         \u001b[0;32mif\u001b[0m \u001b[0mbias\u001b[0m \u001b[0;32mis\u001b[0m \u001b[0;32mnot\u001b[0m \u001b[0;32mNone\u001b[0m\u001b[0;34m:\u001b[0m\u001b[0;34m\u001b[0m\u001b[0;34m\u001b[0m\u001b[0m\n\u001b[1;32m   1614\u001b[0m             \u001b[0moutput\u001b[0m \u001b[0;34m+=\u001b[0m \u001b[0mbias\u001b[0m\u001b[0;34m\u001b[0m\u001b[0;34m\u001b[0m\u001b[0m\n",
      "\u001b[0;31mRuntimeError\u001b[0m: size mismatch, m1: [2800 x 28], m2: [784 x 10] at /opt/conda/conda-bld/pytorch_1587428398394/work/aten/src/TH/generic/THTensorMath.cpp:41"
     ]
    }
   ],
   "source": [
    "for images, labels in train_loader:\n",
    "    print(labels)\n",
    "    print(images.shape)\n",
    "    outputs = model(images)"
   ]
  },
  {
   "cell_type": "markdown",
   "metadata": {},
   "source": [
    "**OJO** El error anterior se debe a que los datos de entrada no tienen la dimensión correcta, deben aplanarse a 28*28"
   ]
  },
  {
   "cell_type": "markdown",
   "metadata": {},
   "source": [
    "Podemos entonces hacer la conversión de tamaño antes de, o la podemos definir dentro de nuestro modelo mismo, en el forward"
   ]
  },
  {
   "cell_type": "code",
   "execution_count": 62,
   "metadata": {},
   "outputs": [],
   "source": [
    "class MNISTmodel(nn.Module):\n",
    "    def __init__(self, input_size, num_classes):\n",
    "        super(MNISTmodel, self).__init__()\n",
    "        self.linear = nn.Linear(input_size, num_classes)\n",
    "        \n",
    "    def forward(self, xb):\n",
    "        xb = xb.view(-1,784)\n",
    "        out = self.linear(xb)\n",
    "        return out\n",
    "model = MNISTmodel(input_size, num_classes)"
   ]
  },
  {
   "cell_type": "code",
   "execution_count": 66,
   "metadata": {},
   "outputs": [
    {
     "name": "stdout",
     "output_type": "stream",
     "text": [
      "tensor([8, 1, 0, 1, 9, 3, 1, 0, 4, 1, 1, 2, 1, 7, 9, 8, 7, 1, 7, 1, 2, 5, 8, 0,\n",
      "        1, 8, 6, 4, 9, 4, 6, 7, 3, 6, 2, 7, 8, 4, 4, 7, 9, 5, 1, 0, 4, 0, 3, 2,\n",
      "        6, 1, 1, 5, 8, 2, 6, 4, 0, 7, 3, 2, 8, 4, 8, 5, 9, 3, 9, 2, 0, 7, 6, 0,\n",
      "        4, 6, 6, 2, 4, 7, 1, 1, 4, 6, 2, 2, 5, 1, 4, 9, 8, 2, 1, 2, 8, 8, 5, 0,\n",
      "        0, 8, 2, 9])\n",
      "torch.Size([100, 1, 28, 28])\n",
      "torch.Size([100, 10])\n"
     ]
    }
   ],
   "source": [
    "for images, label in train_loader:\n",
    "    print(labels)\n",
    "    print(images.shape)\n",
    "    outputs = model(images)\n",
    "    print(outputs.shape)\n",
    "    break\n",
    "    "
   ]
  },
  {
   "cell_type": "code",
   "execution_count": 74,
   "metadata": {},
   "outputs": [
    {
     "name": "stdout",
     "output_type": "stream",
     "text": [
      "torch.Size([10, 784]) torch.Size([10])\n",
      "<generator object Module.parameters at 0x7fcf9cd04cd0>\n"
     ]
    }
   ],
   "source": [
    "print(model.linear.weight.shape, model.linear.bias.shape)\n",
    "print(model.parameters())\n"
   ]
  },
  {
   "cell_type": "code",
   "execution_count": 76,
   "metadata": {},
   "outputs": [
    {
     "name": "stdout",
     "output_type": "stream",
     "text": [
      "torch.Size([100, 10]) tensor([[-0.2342,  0.2149, -0.2024,  0.2304,  0.2194, -0.2268, -0.1529, -0.1125,\n",
      "          0.3382, -0.1060],\n",
      "        [-0.3769,  0.3660,  0.0084,  0.4478,  0.3935, -0.1509, -0.2171,  0.1230,\n",
      "          0.1677, -0.0896]], grad_fn=<SliceBackward>)\n"
     ]
    }
   ],
   "source": [
    "for images, labels in train_loader:\n",
    "    outputs = model(images)\n",
    "    break\n",
    "    \n",
    "print(outputs.shape, outputs[:2,:])"
   ]
  },
  {
   "cell_type": "code",
   "execution_count": 77,
   "metadata": {},
   "outputs": [],
   "source": [
    "import torch.nn.functional as F"
   ]
  },
  {
   "cell_type": "code",
   "execution_count": 82,
   "metadata": {},
   "outputs": [],
   "source": [
    "prob_out = F.softmax(outputs, dim=1)"
   ]
  },
  {
   "cell_type": "code",
   "execution_count": 84,
   "metadata": {},
   "outputs": [],
   "source": [
    "max_prob, pred = torch.max(prob_out, dim=1)"
   ]
  },
  {
   "cell_type": "code",
   "execution_count": 87,
   "metadata": {},
   "outputs": [
    {
     "name": "stdout",
     "output_type": "stream",
     "text": [
      "tensor([8, 3, 3, 4, 8, 4, 8, 3, 3, 3, 9, 1, 3, 3, 1, 8, 6, 3, 1, 8, 8, 8, 3, 8,\n",
      "        8, 1, 8, 3, 3, 3, 3, 4, 8, 1, 1, 3, 4, 8, 8, 3, 3, 8, 3, 3, 4, 3, 3, 8,\n",
      "        3, 8, 8, 1, 8, 3, 3, 3, 8, 3, 1, 8, 8, 8, 8, 1, 4, 8, 3, 3, 8, 1, 3, 8,\n",
      "        8, 3, 8, 4, 3, 1, 4, 1, 3, 8, 8, 4, 3, 3, 3, 8, 3, 3, 4, 3, 3, 7, 1, 4,\n",
      "        8, 3, 3, 4])\n",
      "tensor([9, 4, 5, 2, 4, 7, 7, 8, 1, 4, 6, 4, 1, 6, 9, 1, 6, 2, 7, 7, 3, 1, 3, 9,\n",
      "        0, 7, 1, 0, 6, 4, 0, 4, 3, 5, 9, 6, 8, 8, 1, 3, 9, 1, 7, 2, 2, 1, 1, 8,\n",
      "        6, 9, 5, 9, 8, 8, 3, 6, 2, 6, 5, 9, 8, 4, 3, 5, 2, 9, 1, 6, 9, 7, 6, 9,\n",
      "        7, 6, 5, 1, 3, 9, 3, 8, 0, 1, 5, 8, 1, 0, 1, 8, 2, 8, 6, 3, 3, 3, 1, 9,\n",
      "        3, 2, 2, 1])\n"
     ]
    }
   ],
   "source": [
    "print(pred)\n",
    "print(labels)"
   ]
  },
  {
   "cell_type": "code",
   "execution_count": 97,
   "metadata": {},
   "outputs": [],
   "source": [
    "def accuracy(l1,l2):\n",
    "    return torch.sum(l1==l2).item()/len(pred)"
   ]
  },
  {
   "cell_type": "code",
   "execution_count": 98,
   "metadata": {},
   "outputs": [
    {
     "data": {
      "text/plain": [
       "0.14"
      ]
     },
     "execution_count": 98,
     "metadata": {},
     "output_type": "execute_result"
    }
   ],
   "source": [
    "accuracy(pred, labels)"
   ]
  },
  {
   "cell_type": "markdown",
   "metadata": {},
   "source": [
    "La función accuracy es buena para medir el modelo, pero no para optimizarlo, ya que no es diferenciable. Para eso podemos usar cross entroy, el cual usa la siguiente ecuación:\n",
    "\n",
    "$$ D(\\hat{y},y) = -\\sum_j{y_j ln \\hat{y_j}} $$\n",
    "\n",
    "Donde $\\hat{y}$ es la probabilidad predicha y $ y $ es la probabilidad real del label.\n",
    "El signo negativo es debido a que la probabilidad predicha va de 0 a 1, por lo que el ln es negativo."
   ]
  },
  {
   "cell_type": "markdown",
   "metadata": {},
   "source": [
    "Hay una función en pytorch que primero hace el softmax y luego el cross entropy."
   ]
  },
  {
   "cell_type": "code",
   "execution_count": 99,
   "metadata": {},
   "outputs": [],
   "source": [
    "loss_fn = F.cross_entropy"
   ]
  },
  {
   "cell_type": "code",
   "execution_count": 102,
   "metadata": {},
   "outputs": [
    {
     "name": "stdout",
     "output_type": "stream",
     "text": [
      "tensor(2.2973, grad_fn=<NllLossBackward>)\n"
     ]
    }
   ],
   "source": [
    "loss = loss_fn(outputs,labels)\n",
    "print(loss)"
   ]
  },
  {
   "cell_type": "markdown",
   "metadata": {},
   "source": [
    "Ahora debo definir el optimizador"
   ]
  },
  {
   "cell_type": "code",
   "execution_count": 103,
   "metadata": {},
   "outputs": [],
   "source": [
    "lr = 0.001\n",
    "opt = torch.optim.SGD(model.parameters(),lr=lr)"
   ]
  },
  {
   "cell_type": "code",
   "execution_count": 222,
   "metadata": {},
   "outputs": [],
   "source": [
    "def loss_batch(model, loss_func, xb, yb, opt=None, metric=None):\n",
    "    pred = model(xb)\n",
    "    loss = loss_func(pred, yb)\n",
    "    \n",
    "    if opt is not None:\n",
    "        loss.backward()\n",
    "        opt.step()\n",
    "        opt.zero_grad()\n",
    "    \n",
    "    metric_result = None\n",
    "    if metric is not None:\n",
    "        metric_result = metric(pred,yb)\n",
    "    \n",
    "    return loss.item(), len(xb), metric_result"
   ]
  },
  {
   "cell_type": "markdown",
   "metadata": {},
   "source": [
    "**OJO** el optimizador y la métrica son opcionales en esta función, para asegurarme que la función la podré utilizar para calcular el loss para los datos de validación y testeo."
   ]
  },
  {
   "cell_type": "code",
   "execution_count": 174,
   "metadata": {},
   "outputs": [],
   "source": [
    "def evaluate(model, loss_func, valid_dl, metric=None):\n",
    "    with torch.no_grad():\n",
    "\n",
    "        results = [loss_batch(model, loss_func, xb, yb, metric=metric) for xb, yb in valid_dl]\n",
    "\n",
    "        losses, nums, metrics = zip(*results)\n",
    "\n",
    "        total = np.sum(nums)\n",
    "\n",
    "        avg_loss = np.sum(np.multiply(losses,nums))/total\n",
    "\n",
    "        avg_metric = None\n",
    "\n",
    "        if metric is not None:\n",
    "            avg_metric = np.sum(np.multiply(metrics,nums))/total\n",
    "\n",
    "    return avg_loss, total, avg_metric"
   ]
  },
  {
   "cell_type": "code",
   "execution_count": 186,
   "metadata": {},
   "outputs": [],
   "source": [
    "def accuracy(outputs, labels):\n",
    "    _, preds = torch.max(outputs, dim=1)\n",
    "    return torch.sum(preds==labels).item()/len(preds)"
   ]
  },
  {
   "cell_type": "code",
   "execution_count": 176,
   "metadata": {},
   "outputs": [],
   "source": [
    "val_loss, total, val_acc = evaluate(model,loss_fn,val_loader, accuracy)"
   ]
  },
  {
   "cell_type": "code",
   "execution_count": 177,
   "metadata": {},
   "outputs": [
    {
     "name": "stdout",
     "output_type": "stream",
     "text": [
      "2.3043393035729727 12000 0.12466666666666666\n"
     ]
    }
   ],
   "source": [
    "print(val_loss, total, val_acc)"
   ]
  },
  {
   "cell_type": "code",
   "execution_count": 231,
   "metadata": {},
   "outputs": [],
   "source": [
    "def fit(epochs, model, loss_fn, opt, train_dl, valid_dl, metric=None):\n",
    "    for epoch in range(epochs):\n",
    "        for xb, yb in train_dl:\n",
    "            loss,_,_ = loss_batch(model, loss_fn, xb, yb, opt)\n",
    "\n",
    "        result = evaluate(model,loss_fn, valid_dl,metric=metric)\n",
    "        val_loss, total, val_metric = result\n",
    "\n",
    "        if metric is None:\n",
    "            print('Epoch [{}/{}], Loss: {:.4f}'.format(epoch+1, epochs, val_loss))\n",
    "\n",
    "        else:\n",
    "            print('Epoch [{}/{}], Loss: {}, {}: {:.4f}'.format(epoch+1,epochs, loss,metric.__name__, val_metric))"
   ]
  },
  {
   "cell_type": "code",
   "execution_count": 183,
   "metadata": {},
   "outputs": [],
   "source": [
    "model = MNISTmodel(input_size, num_classes )"
   ]
  },
  {
   "cell_type": "code",
   "execution_count": 184,
   "metadata": {},
   "outputs": [],
   "source": [
    "optimizer = torch.optim.SGD(model.parameters(), lr=lr)"
   ]
  },
  {
   "cell_type": "code",
   "execution_count": 232,
   "metadata": {},
   "outputs": [
    {
     "name": "stdout",
     "output_type": "stream",
     "text": [
      "Epoch [1/5], Loss: 0.43021854758262634, accuracy: 0.8719\n",
      "Epoch [2/5], Loss: 0.5321688652038574, accuracy: 0.8723\n",
      "Epoch [3/5], Loss: 0.5593116283416748, accuracy: 0.8731\n",
      "Epoch [4/5], Loss: 0.5725670456886292, accuracy: 0.8736\n",
      "Epoch [5/5], Loss: 0.5799338817596436, accuracy: 0.8745\n"
     ]
    }
   ],
   "source": [
    "fit(5, model, F.cross_entropy, optimizer, train_loader, val_loader, accuracy)"
   ]
  },
  {
   "cell_type": "code",
   "execution_count": 233,
   "metadata": {},
   "outputs": [
    {
     "name": "stdout",
     "output_type": "stream",
     "text": [
      "Epoch [1/5], Loss: 0.48510056734085083, accuracy: 0.8749\n",
      "Epoch [2/5], Loss: 0.49651899933815, accuracy: 0.8753\n",
      "Epoch [3/5], Loss: 0.5016648769378662, accuracy: 0.8758\n",
      "Epoch [4/5], Loss: 0.3379616141319275, accuracy: 0.8762\n",
      "Epoch [5/5], Loss: 0.4077931344509125, accuracy: 0.8771\n"
     ]
    }
   ],
   "source": [
    "fit(5, model, F.cross_entropy, optimizer, train_loader, val_loader, accuracy)"
   ]
  },
  {
   "cell_type": "code",
   "execution_count": 234,
   "metadata": {},
   "outputs": [
    {
     "name": "stdout",
     "output_type": "stream",
     "text": [
      "Epoch [1/5], Loss: 0.3813748061656952, accuracy: 0.8776\n",
      "Epoch [2/5], Loss: 0.412529855966568, accuracy: 0.8782\n",
      "Epoch [3/5], Loss: 0.4845489263534546, accuracy: 0.8789\n",
      "Epoch [4/5], Loss: 0.40327563881874084, accuracy: 0.8794\n",
      "Epoch [5/5], Loss: 0.4235337972640991, accuracy: 0.8800\n"
     ]
    }
   ],
   "source": [
    "fit(5, model, F.cross_entropy, optimizer, train_loader, val_loader, accuracy)"
   ]
  },
  {
   "cell_type": "code",
   "execution_count": 235,
   "metadata": {},
   "outputs": [
    {
     "name": "stdout",
     "output_type": "stream",
     "text": [
      "Epoch [1/5], Loss: 0.4611455798149109, accuracy: 0.8808\n",
      "Epoch [2/5], Loss: 0.4005926549434662, accuracy: 0.8813\n",
      "Epoch [3/5], Loss: 0.5786811113357544, accuracy: 0.8815\n",
      "Epoch [4/5], Loss: 0.5154942870140076, accuracy: 0.8820\n",
      "Epoch [5/5], Loss: 0.45869046449661255, accuracy: 0.8826\n"
     ]
    }
   ],
   "source": [
    "fit(5, model, F.cross_entropy, optimizer, train_loader, val_loader, accuracy)"
   ]
  },
  {
   "cell_type": "code",
   "execution_count": 237,
   "metadata": {},
   "outputs": [
    {
     "data": {
      "text/plain": [
       "[<matplotlib.lines.Line2D at 0x7fcf9f78d710>]"
      ]
     },
     "execution_count": 237,
     "metadata": {},
     "output_type": "execute_result"
    },
    {
     "data": {
      "image/png": "[encoded data removed]",
      "text/plain": [
       "<Figure size 432x288 with 1 Axes>"
      ]
     },
     "metadata": {
      "needs_background": "light"
     },
     "output_type": "display_data"
    }
   ],
   "source": [
    "accuracies = [0.8719,0.8723,0.8731,0.8736,0.8745,0.8749,0.8753,0.8758,0.8762,0.8771,\n",
    "             0.8776,0.8782,0.8789,0.8794,0.8800,0.8808,0.8813,0.8815,0.8820,0.8826]\n",
    "\n",
    "plt.plot(accuracies)"
   ]
  },
  {
   "cell_type": "code",
   "execution_count": null,
   "metadata": {},
   "outputs": [],
   "source": []
  },
  {
   "cell_type": "code",
   "execution_count": null,
   "metadata": {},
   "outputs": [],
   "source": []
  },
  {
   "cell_type": "code",
   "execution_count": null,
   "metadata": {},
   "outputs": [],
   "source": []
  },
  {
   "cell_type": "markdown",
   "metadata": {},
   "source": [
    "# Pruebas varias"
   ]
  },
  {
   "cell_type": "code",
   "execution_count": 129,
   "metadata": {},
   "outputs": [],
   "source": [
    "results = [loss_batch(model, loss_fn, xb, yb, metric=accuracy) for xb, yb in val_loader]"
   ]
  },
  {
   "cell_type": "code",
   "execution_count": 133,
   "metadata": {},
   "outputs": [],
   "source": [
    "a,b,c = zip(*results)"
   ]
  },
  {
   "cell_type": "code",
   "execution_count": 141,
   "metadata": {},
   "outputs": [
    {
     "name": "stdout",
     "output_type": "stream",
     "text": [
      "2.342181921005249 100 0.13\n",
      "[(2.342181921005249, 100, 0.13), (2.318309783935547, 100, 0.21), (2.3299460411071777, 100, 0.1), (2.350898504257202, 100, 0.09), (2.3308675289154053, 100, 0.09), (2.338451385498047, 100, 0.13), (2.295437812805176, 100, 0.18), (2.3414549827575684, 100, 0.1), (2.3385541439056396, 100, 0.12), (2.3302321434020996, 100, 0.12), (2.340193510055542, 100, 0.13), (2.3320140838623047, 100, 0.17), (2.321310043334961, 100, 0.1), (2.3518314361572266, 100, 0.1), (2.3188295364379883, 100, 0.08), (2.3416831493377686, 100, 0.16), (2.2768173217773438, 100, 0.17), (2.328573703765869, 100, 0.14), (2.3249237537384033, 100, 0.15), (2.356862783432007, 100, 0.08), (2.3471524715423584, 100, 0.1), (2.3517768383026123, 100, 0.08), (2.3567960262298584, 100, 0.09), (2.298767328262329, 100, 0.15), (2.293274164199829, 100, 0.14), (2.3206210136413574, 100, 0.14), (2.3376495838165283, 100, 0.05), (2.3733458518981934, 100, 0.06), (2.3303637504577637, 100, 0.12), (2.3201565742492676, 100, 0.16), (2.3216049671173096, 100, 0.11), (2.3365352153778076, 100, 0.11), (2.344024896621704, 100, 0.1), (2.3412795066833496, 100, 0.1), (2.320657730102539, 100, 0.18), (2.347557306289673, 100, 0.13), (2.3187172412872314, 100, 0.13), (2.379389762878418, 100, 0.1), (2.3647522926330566, 100, 0.07), (2.344578742980957, 100, 0.06), (2.34566068649292, 100, 0.1), (2.3000717163085938, 100, 0.18), (2.320138931274414, 100, 0.12), (2.306605100631714, 100, 0.14), (2.364211082458496, 100, 0.05), (2.296492099761963, 100, 0.14), (2.288139581680298, 100, 0.15), (2.313988208770752, 100, 0.12), (2.302842617034912, 100, 0.09), (2.3537566661834717, 100, 0.07), (2.347447395324707, 100, 0.07), (2.296339273452759, 100, 0.13), (2.347393035888672, 100, 0.07), (2.3348209857940674, 100, 0.17), (2.3103160858154297, 100, 0.11), (2.3151116371154785, 100, 0.14), (2.3284342288970947, 100, 0.16), (2.3288776874542236, 100, 0.12), (2.3219072818756104, 100, 0.11), (2.3360698223114014, 100, 0.1), (2.3542912006378174, 100, 0.11), (2.3565053939819336, 100, 0.08), (2.302673101425171, 100, 0.13), (2.3540830612182617, 100, 0.14), (2.3107850551605225, 100, 0.08), (2.372089147567749, 100, 0.06), (2.335191011428833, 100, 0.08), (2.3240442276000977, 100, 0.14), (2.2985341548919678, 100, 0.13), (2.3383758068084717, 100, 0.11), (2.316272020339966, 100, 0.14), (2.351836919784546, 100, 0.15), (2.3453800678253174, 100, 0.11), (2.3155529499053955, 100, 0.14), (2.3326215744018555, 100, 0.09), (2.3256380558013916, 100, 0.1), (2.3463733196258545, 100, 0.12), (2.3346059322357178, 100, 0.11), (2.3195505142211914, 100, 0.12), (2.280625104904175, 100, 0.18), (2.3350143432617188, 100, 0.13), (2.3390071392059326, 100, 0.08), (2.308029890060425, 100, 0.12), (2.31376576423645, 100, 0.1), (2.315694808959961, 100, 0.12), (2.345308542251587, 100, 0.12), (2.348336696624756, 100, 0.12), (2.3481457233428955, 100, 0.14), (2.324381113052368, 100, 0.09), (2.3383679389953613, 100, 0.1), (2.3074827194213867, 100, 0.1), (2.3263051509857178, 100, 0.13), (2.303689956665039, 100, 0.18), (2.362694501876831, 100, 0.1), (2.328386068344116, 100, 0.1), (2.3150570392608643, 100, 0.11), (2.2893829345703125, 100, 0.15), (2.321518659591675, 100, 0.11), (2.3722126483917236, 100, 0.14), (2.372351884841919, 100, 0.13), (2.359092950820923, 100, 0.08), (2.3396778106689453, 100, 0.11), (2.3566112518310547, 100, 0.16), (2.3231382369995117, 100, 0.07), (2.342729330062866, 100, 0.08), (2.322960138320923, 100, 0.14), (2.3283286094665527, 100, 0.1), (2.3562471866607666, 100, 0.1), (2.3547184467315674, 100, 0.1), (2.3313112258911133, 100, 0.16), (2.326787233352661, 100, 0.13), (2.324575185775757, 100, 0.11), (2.308997392654419, 100, 0.09), (2.36274790763855, 100, 0.12), (2.307851791381836, 100, 0.13), (2.304521083831787, 100, 0.13), (2.3760128021240234, 100, 0.1), (2.3957712650299072, 100, 0.07), (2.309175491333008, 100, 0.13), (2.3113203048706055, 100, 0.16)]\n"
     ]
    }
   ],
   "source": [
    "print(a[0],b[0], c[0])\n",
    "print(results)"
   ]
  },
  {
   "cell_type": "code",
   "execution_count": 147,
   "metadata": {},
   "outputs": [
    {
     "name": "stdout",
     "output_type": "stream",
     "text": [
      "[(1, 2, 4), (5, 6, 7), (8, 9, 10)] (1, 2, 4) (5, 6, 7) (8, 9, 10)\n"
     ]
    }
   ],
   "source": [
    "# print(*results)\n",
    "lista_prueba = [(1,2,4),(5,6,7),(8,9,10)]\n",
    "print(lista_prueba, *lista_prueba)"
   ]
  },
  {
   "cell_type": "code",
   "execution_count": 154,
   "metadata": {},
   "outputs": [],
   "source": [
    "a_ver = zip(*lista_prueba)"
   ]
  },
  {
   "cell_type": "code",
   "execution_count": 155,
   "metadata": {},
   "outputs": [],
   "source": [
    "x,y,z = a_ver"
   ]
  }
 ],
 "metadata": {
  "kernelspec": {
   "display_name": "Python 3",
   "language": "python",
   "name": "python3"
  },
  "language_info": {
   "codemirror_mode": {
    "name": "ipython",
    "version": 3
   },
   "file_extension": ".py",
   "mimetype": "text/x-python",
   "name": "python",
   "nbconvert_exporter": "python",
   "pygments_lexer": "ipython3",
   "version": "3.7.6"
  }
 },
 "nbformat": 4,
 "nbformat_minor": 4
}
